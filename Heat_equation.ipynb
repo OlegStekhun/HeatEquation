{
 "cells": [
  {
   "cell_type": "markdown",
   "id": "2ab50513-6b3f-4155-a036-0acc04b885a5",
   "metadata": {},
   "source": [
    "**Задача**\n",
    "\n",
    "Найти решение следующей задачи:\n",
    "\n",
    "$u_t - a^2(u_{xx}+u_{yy})= f(t, x, y)$ \n",
    "\n",
    "c начальными условиями: $u(0, x, y) = \\varphi(x,y)$\n",
    "\n",
    "с граничными условиями: $u(t,G) = \\psi(t)$, где $G$ - граница области."
   ]
  },
  {
   "cell_type": "code",
   "execution_count": 54,
   "id": "516312c1-f03b-44f1-afd1-515a086b0193",
   "metadata": {},
   "outputs": [],
   "source": [
    "import numpy as np\n",
    "import matplotlib.pyplot as plt\n",
    "import os\n",
    "from PIL import Image\n",
    "from dataclasses import dataclass, field"
   ]
  },
  {
   "cell_type": "markdown",
   "id": "5149f407-45a3-4d90-800b-2e3f7ecfaf6d",
   "metadata": {},
   "source": [
    "**Параметры задачи**"
   ]
  },
  {
   "cell_type": "code",
   "execution_count": 56,
   "id": "c77e94f8-914b-42dd-bf8f-773ff3e0246a",
   "metadata": {},
   "outputs": [],
   "source": [
    "@dataclass\n",
    "class EqParams:\n",
    "    Lx: int   # Размер по оси Х\n",
    "    Ly: int   # Размер по оси Y\n",
    "    nx: int   # Количество точек по оси X\n",
    "    ny: int   # Количество точек по оси Y\n",
    "    nt: int   # Количество точек по оси t\n",
    "    Tmax: int # Время моделирования\n",
    "    a: float  # Коэффициент температуропроводности\n",
    "    h_x: float = field(init=False) # Шаг по оси X\n",
    "    h_y: float = field(init=False) # Шаг по оси Y\n",
    "    tau: float = field(init=False) # Шаг по времени\n",
    "\n",
    "    def __post_init__(self):\n",
    "        self.h_x = self.Lx / (self.nx - 1)   # Расчёт шага по оси Х\n",
    "        self.h_y = self.Ly / (self.ny - 1)   # Расчёт шага по оси Y\n",
    "        self.tau = self.Tmax / (self.nt - 1) # Расчёт шага по времени"
   ]
  },
  {
   "cell_type": "code",
   "execution_count": 57,
   "id": "bee2f4b7-019b-470b-9bae-481a1a7ce4ae",
   "metadata": {},
   "outputs": [],
   "source": [
    "params = EqParams(Lx=100, Ly=100, nx=101, ny=101, nt=501, Tmax=50, a=1.25) # Задание параметров задачи"
   ]
  },
  {
   "cell_type": "markdown",
   "id": "c7e65924-7a28-46f2-aa41-2336044a5af4",
   "metadata": {},
   "source": [
    "**Задание начальных условий**"
   ]
  },
  {
   "cell_type": "code",
   "execution_count": 59,
   "id": "7a16c3ba-38ec-4583-92c6-d3d2535a86a1",
   "metadata": {},
   "outputs": [],
   "source": [
    "def initial_cond(u: np.ndarray, params: EqParams) -> None:\n",
    "    mid_x = int(params.nx/2)\n",
    "    mid_y = int(params.ny/2)\n",
    "    u[0, mid_x-10:mid_x+11, mid_y-10:mid_y+11] = 300 # Нагрев центра области"
   ]
  },
  {
   "cell_type": "markdown",
   "id": "41906be8-ec47-416c-9213-b5703a9adb70",
   "metadata": {},
   "source": [
    "**Задание граничных условий**"
   ]
  },
  {
   "cell_type": "code",
   "execution_count": 61,
   "id": "2b80109b-ed3d-46af-b2c0-1da2342c50e7",
   "metadata": {},
   "outputs": [],
   "source": [
    "def boundary_cond(u: np.ndarray, params: EqParams) -> None:\n",
    "    u[:,0,:] = 75       # Условие на верхней стенке               \n",
    "    u[:,params.nx-1,:] = 100   # Условие на нижней стенке\n",
    "    u[:,:,0] = 75       # Условие на левой стенке\n",
    "    u[:,:,params.ny-1] = -100  # Условие на правой стенке"
   ]
  },
  {
   "cell_type": "markdown",
   "id": "a27f2607-d90a-4ef5-bde7-9f6b25a99887",
   "metadata": {},
   "source": [
    "**Задание функции источника**"
   ]
  },
  {
   "cell_type": "code",
   "execution_count": 63,
   "id": "04379c2d-9bf3-4a3f-bfc8-856b6efd68bf",
   "metadata": {},
   "outputs": [],
   "source": [
    "def f(t: float, x: float, y: float) -> float:\n",
    "    return np.sin(3*x + 5*y)"
   ]
  },
  {
   "cell_type": "markdown",
   "id": "ead3caa8-a31d-4ff9-b013-bf76cc8639eb",
   "metadata": {},
   "source": [
    "**Решение дифференциального уравнения**"
   ]
  },
  {
   "cell_type": "code",
   "execution_count": 65,
   "id": "9312e756-094d-40f1-9b52-8fcdf1bfe3af",
   "metadata": {},
   "outputs": [],
   "source": [
    "def eq_heat(params: EqParams) -> np.ndarray:\n",
    "    # u_t - a^2(u_xx + u_yy) = 0\n",
    "    \n",
    "    # Начальные и граничные условия\n",
    "    u = np.zeros((params.nt, params.nx, params.ny))\n",
    "    initial_cond(u, params)\n",
    "    boundary_cond(u, params)\n",
    "\n",
    "    # Решение дифференциального уравнения \n",
    "    for n in range(params.nt-1):\n",
    "        for i in range(1, params.nx-1):\n",
    "            for j in range(1, params.ny-1):\n",
    "                u[n+1,i,j] = params.a**2*params.tau*((u[n,i+1,j] - 2*u[n,i,j] + u[n,i-1,j])/(params.h_x**2) + \\\n",
    "                                    (u[n,i,j+1] - 2*u[n,i,j] + u[n,i,j-1])/(params.h_y**2)) + \\\n",
    "                                   u[n,i,j] + params.tau*f(n, i, j)\n",
    "\n",
    "    return u"
   ]
  },
  {
   "cell_type": "markdown",
   "id": "bb9b56cb-3f99-4a2a-8d38-9ba54d64d87c",
   "metadata": {},
   "source": [
    "**Создание анимации**"
   ]
  },
  {
   "cell_type": "code",
   "execution_count": 67,
   "id": "bb99ad5a-81f0-4a30-a386-427a1e04ced8",
   "metadata": {},
   "outputs": [],
   "source": [
    "def create_animation(u: np.ndarray, params: EqParams) -> None:\n",
    "    \n",
    "    if not os.path.exists('frames'):\n",
    "        os.makedirs('frames')\n",
    "    \n",
    "    for n in range(params.nt):\n",
    "        fig, ax = plt.subplots()\n",
    "        im = ax.imshow(u[n], cmap='coolwarm', vmin=-100, vmax=300)\n",
    "        fig.colorbar(im)\n",
    "        plt.title(f'Time: {(n)*params.tau:.2f}')\n",
    "        plt.savefig(f'frames/{n}.png')\n",
    "        plt.close(fig)\n",
    "\n",
    "    images = []\n",
    "    for n in range(params.nt):\n",
    "        filename = f'frames/{n}.png'\n",
    "        images.append(Image.open(filename).convert('RGB'))\n",
    "\n",
    "    gif_filename = 'heat_equation.gif'\n",
    "    images[0].save(gif_filename, save_all=True, append_images=images[1:], duration=50, loop=0)"
   ]
  },
  {
   "cell_type": "code",
   "execution_count": 68,
   "id": "b148c129-59a4-4782-85ed-f550178c327e",
   "metadata": {},
   "outputs": [],
   "source": [
    "create_animation(eq_heat(params), params)"
   ]
  }
 ],
 "metadata": {
  "kernelspec": {
   "display_name": "Python 3 (ipykernel)",
   "language": "python",
   "name": "python3"
  },
  "language_info": {
   "codemirror_mode": {
    "name": "ipython",
    "version": 3
   },
   "file_extension": ".py",
   "mimetype": "text/x-python",
   "name": "python",
   "nbconvert_exporter": "python",
   "pygments_lexer": "ipython3",
   "version": "3.11.7"
  }
 },
 "nbformat": 4,
 "nbformat_minor": 5
}
